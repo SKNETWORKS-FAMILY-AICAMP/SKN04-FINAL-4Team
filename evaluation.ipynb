{
 "cells": [
  {
   "cell_type": "code",
   "execution_count": null,
   "metadata": {
    "vscode": {
     "languageId": "plaintext"
    }
   },
   "outputs": [],
   "source": [
    "from sentence_transformers import SentenceTransformer, util\n",
    "import pandas as pd\n",
    "from tqdm import tqdm"
   ]
  },
  {
   "cell_type": "code",
   "execution_count": null,
   "metadata": {
    "vscode": {
     "languageId": "plaintext"
    }
   },
   "outputs": [],
   "source": [
    "model = SentenceTransformer('jhgan/ko-sroberta-multitask')"
   ]
  },
  {
   "cell_type": "code",
   "execution_count": null,
   "metadata": {
    "vscode": {
     "languageId": "plaintext"
    }
   },
   "outputs": [],
   "source": [
    "df = pd.read_csv('eval_v4.csv')"
   ]
  },
  {
   "cell_type": "code",
   "execution_count": null,
   "metadata": {
    "vscode": {
     "languageId": "plaintext"
    }
   },
   "outputs": [],
   "source": [
    "cot_sim_list = []\n",
    "answer_sim_list = []\n",
    "for i in tqdm(range(len(df))):\n",
    "    cot = [\n",
    "        df.iloc[i]['추론'],\n",
    "        df.iloc[i]['예측_추론']\n",
    "    ]\n",
    "\n",
    "    cot_embeddings = model.encode(cot, convert_to_tensor=True)\n",
    "\n",
    "    answers = [\n",
    "        df.iloc[i]['답'],\n",
    "        df.iloc[i]['예측_답']\n",
    "    ]\n",
    "\n",
    "    answers_embeddings = model.encode(answers, convert_to_tensor=True)\n",
    "\n",
    "    # 코사인 유사도 계산\n",
    "    cot_similarity = util.pytorch_cos_sim(cot_embeddings[0], cot_embeddings[1]).item()\n",
    "    answer_similarity = util.pytorch_cos_sim(answers_embeddings[0], answers_embeddings[1]).item()\n",
    "    cot_sim_list.append(cot_similarity)\n",
    "    answer_sim_list.append(answer_similarity)"
   ]
  },
  {
   "cell_type": "code",
   "execution_count": null,
   "metadata": {
    "vscode": {
     "languageId": "plaintext"
    }
   },
   "outputs": [],
   "source": [
    "cot_df.mean()"
   ]
  },
  {
   "cell_type": "code",
   "execution_count": null,
   "metadata": {
    "vscode": {
     "languageId": "plaintext"
    }
   },
   "outputs": [],
   "source": [
    "fig = px.histogram(cot_df, x=\"유사도\", nbins=20)\n",
    "\n",
    "#스타 변경\n",
    "fig.update_layout(bargap=0.2)\n",
    "\n",
    "fig.show()"
   ]
  },
  {
   "cell_type": "code",
   "execution_count": null,
   "metadata": {
    "vscode": {
     "languageId": "plaintext"
    }
   },
   "outputs": [],
   "source": [
    "answer_df.mean()"
   ]
  },
  {
   "cell_type": "code",
   "execution_count": null,
   "metadata": {
    "vscode": {
     "languageId": "plaintext"
    }
   },
   "outputs": [],
   "source": [
    "fig = px.histogram(answer_df, x=\"유사도\", nbins=20)\n",
    "\n",
    "#스타 변경\n",
    "fig.update_layout(bargap=0.2)\n",
    "\n",
    "fig.show()"
   ]
  }
 ],
 "metadata": {
  "language_info": {
   "name": "python"
  }
 },
 "nbformat": 4,
 "nbformat_minor": 2
}
